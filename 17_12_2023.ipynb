{
  "nbformat": 4,
  "nbformat_minor": 0,
  "metadata": {
    "colab": {
      "provenance": []
    },
    "kernelspec": {
      "name": "python3",
      "display_name": "Python 3"
    },
    "language_info": {
      "name": "python"
    }
  },
  "cells": [
    {
      "cell_type": "code",
      "source": [
        "#Write a Python function to find the third least value in an array\n",
        "#Input : my_array = [10, 5, 8, 2, 7]\n",
        "#Output : The third least value is: 7"
      ],
      "metadata": {
        "id": "tRJUFaYxGgEm"
      },
      "execution_count": null,
      "outputs": []
    },
    {
      "cell_type": "code",
      "source": [
        "def third_least_value(arr):\n",
        "  if len(arr)<3:\n",
        "    return \"Array should have atleast three values\"\n",
        "\n",
        "  smallest=second_smallest=third_smallest=999999\n",
        "\n",
        "  for num in arr:\n",
        "    if num < smallest:\n",
        "      third_smallest=second_smallest\n",
        "      second_smallest=smallest\n",
        "      smallest=num\n",
        "\n",
        "    elif num < second_smallest and num != smallest:\n",
        "      third_smallest=second_smallest\n",
        "      second_smallest=num\n",
        "\n",
        "    elif num < third_smallest and num != smallest and num != second_smallest:\n",
        "      third_smallest=num\n",
        "\n",
        "  return third_smallest\n",
        "\n",
        "\n",
        "arr=[10, 5, 8, 2, 7]\n",
        "print('Third least value is : ',third_least_value(arr))"
      ],
      "metadata": {
        "colab": {
          "base_uri": "https://localhost:8080/"
        },
        "id": "WKRxYchKGpE5",
        "outputId": "91d591f6-76b5-46c2-ebd6-1b49284d7d1f"
      },
      "execution_count": null,
      "outputs": [
        {
          "output_type": "stream",
          "name": "stdout",
          "text": [
            "Third least value is :  7\n"
          ]
        }
      ]
    }
  ]
}